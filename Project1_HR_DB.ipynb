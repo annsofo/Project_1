{
 "cells": [
  {
   "cell_type": "markdown",
   "id": "a79b0aba",
   "metadata": {},
   "source": [
    "# Project 1: ETL Processing with HR Database\n",
    "\n",
    "Background:\n",
    "I am currently a Data Scientist for a small (but growing) IT company based in Charlottesville, VA that has multiple remote employees throughout the United States. The HR department is in need of querying their SQL database and transforming its tables in order to find which employees are based in the US who are able to commute quickly to a conference held in Florida. My goal is to extract from the SQL database, transform the data to facilitate access to desired information, load into a new database specifically intended for information on eligible employees for conference attendance, and then load into a CSV file so multiple people can access it quickly. Because they are a growing company, loading the current SQL database into a NoSQL database is in the foreseeable future to increase scalability, but a local CSV file will do for now since this task is only intended to aid conference planning.\n",
    "\n",
    "### Importing Necessary Libraries"
   ]
  },
  {
   "cell_type": "code",
   "execution_count": 2,
   "id": "954046a4",
   "metadata": {},
   "outputs": [],
   "source": [
    "import os\n",
    "import numpy\n",
    "import pyodbc \n",
    "import pandas as pd\n",
    "from sqlalchemy import create_engine"
   ]
  },
  {
   "cell_type": "markdown",
   "id": "d9a5278b",
   "metadata": {},
   "source": [
    "### Assigning Connection Variables for MySQL Server"
   ]
  },
  {
   "cell_type": "code",
   "execution_count": 3,
   "id": "b8cb6211",
   "metadata": {},
   "outputs": [],
   "source": [
    "host_name = \"localhost\"\n",
    "host_ip = \"127.0.0.1\"\n",
    "port = \"3306\"\n",
    "\n",
    "user_id = \"root\"\n",
    "pwd = \"Rocco#0630sofo\"\n",
    "src_dbname = \"Human_resources\"\n",
    "dst_dbname = \"Eligible_forConference\""
   ]
  },
  {
   "cell_type": "markdown",
   "id": "26514a9e",
   "metadata": {},
   "source": [
    "### Defining Functions for Setting/Getting Dataframes"
   ]
  },
  {
   "cell_type": "code",
   "execution_count": 4,
   "id": "7e8188a7",
   "metadata": {},
   "outputs": [],
   "source": [
    "def get_dataframe(user_id, pwd, host_name, db_name, sql_query):\n",
    "    conn_str = f\"mysql+pymysql://{user_id}:{pwd}@{host_name}/{db_name}\"\n",
    "    sqlEngine = create_engine(conn_str, pool_recycle=3600)\n",
    "    connection = sqlEngine.connect()\n",
    "    dframe = pd.read_sql(sql_query, connection);\n",
    "    connection.close()\n",
    "    \n",
    "    return dframe\n",
    "\n",
    "\n",
    "def set_dataframe(user_id, pwd, host_name, db_name, df, table_name, pk_column, db_operation):\n",
    "    conn_str = f\"mysql+pymysql://{user_id}:{pwd}@{host_name}/{db_name}\"\n",
    "    \n",
    "    sqlEngine = create_engine(conn_str, pool_recycle=3600)\n",
    "    connection = sqlEngine.connect()\n",
    "    \n",
    "    if db_operation == \"insert\":\n",
    "        df.to_sql(table_name, con=connection, index=False, if_exists='replace')\n",
    "        sqlEngine.execute(f\"ALTER TABLE {table_name} ADD PRIMARY KEY ({pk_column});\")\n",
    "            \n",
    "    elif db_operation == \"update\":\n",
    "        df.to_sql(table_name, con=connection, index=False, if_exists='append')\n",
    "    \n",
    "    connection.close()"
   ]
  },
  {
   "cell_type": "markdown",
   "id": "bf627588",
   "metadata": {},
   "source": [
    "### Populating Dimension Tables"
   ]
  },
  {
   "cell_type": "code",
   "execution_count": 14,
   "id": "c33c6d4c",
   "metadata": {},
   "outputs": [
    {
     "data": {
      "text/html": [
       "<div>\n",
       "<style scoped>\n",
       "    .dataframe tbody tr th:only-of-type {\n",
       "        vertical-align: middle;\n",
       "    }\n",
       "\n",
       "    .dataframe tbody tr th {\n",
       "        vertical-align: top;\n",
       "    }\n",
       "\n",
       "    .dataframe thead th {\n",
       "        text-align: right;\n",
       "    }\n",
       "</style>\n",
       "<table border=\"1\" class=\"dataframe\">\n",
       "  <thead>\n",
       "    <tr style=\"text-align: right;\">\n",
       "      <th></th>\n",
       "      <th>location_id</th>\n",
       "      <th>street_address</th>\n",
       "      <th>postal_code</th>\n",
       "      <th>city</th>\n",
       "      <th>state_province</th>\n",
       "      <th>country_id</th>\n",
       "    </tr>\n",
       "  </thead>\n",
       "  <tbody>\n",
       "    <tr>\n",
       "      <th>0</th>\n",
       "      <td>1400</td>\n",
       "      <td>2014 Jabberwocky Rd</td>\n",
       "      <td>26192</td>\n",
       "      <td>Southlake</td>\n",
       "      <td>Texas</td>\n",
       "      <td>US</td>\n",
       "    </tr>\n",
       "    <tr>\n",
       "      <th>1</th>\n",
       "      <td>1500</td>\n",
       "      <td>2011 Interiors Blvd</td>\n",
       "      <td>99236</td>\n",
       "      <td>South San Francisco</td>\n",
       "      <td>California</td>\n",
       "      <td>US</td>\n",
       "    </tr>\n",
       "  </tbody>\n",
       "</table>\n",
       "</div>"
      ],
      "text/plain": [
       "   location_id       street_address postal_code                 city  \\\n",
       "0         1400  2014 Jabberwocky Rd       26192            Southlake   \n",
       "1         1500  2011 Interiors Blvd       99236  South San Francisco   \n",
       "\n",
       "  state_province country_id  \n",
       "0          Texas         US  \n",
       "1     California         US  "
      ]
     },
     "execution_count": 14,
     "metadata": {},
     "output_type": "execute_result"
    }
   ],
   "source": [
    "sql_locations = \"SELECT * FROM Human_resources.locations;\"\n",
    "df_locations = get_dataframe(user_id, pwd, host_name, src_dbname, sql_locations)\n",
    "\n",
    "in_US = df_locations[\"country_id\"] == \"US\"\n",
    "df_locations = df_locations[in_US]\n",
    "df_locations.head(2)"
   ]
  },
  {
   "cell_type": "code",
   "execution_count": 15,
   "id": "aba620c8",
   "metadata": {},
   "outputs": [
    {
     "data": {
      "text/html": [
       "<div>\n",
       "<style scoped>\n",
       "    .dataframe tbody tr th:only-of-type {\n",
       "        vertical-align: middle;\n",
       "    }\n",
       "\n",
       "    .dataframe tbody tr th {\n",
       "        vertical-align: top;\n",
       "    }\n",
       "\n",
       "    .dataframe thead th {\n",
       "        text-align: right;\n",
       "    }\n",
       "</style>\n",
       "<table border=\"1\" class=\"dataframe\">\n",
       "  <thead>\n",
       "    <tr style=\"text-align: right;\">\n",
       "      <th></th>\n",
       "      <th>department_id</th>\n",
       "      <th>department_name</th>\n",
       "      <th>location_id</th>\n",
       "    </tr>\n",
       "  </thead>\n",
       "  <tbody>\n",
       "    <tr>\n",
       "      <th>0</th>\n",
       "      <td>1</td>\n",
       "      <td>Administration</td>\n",
       "      <td>1700</td>\n",
       "    </tr>\n",
       "    <tr>\n",
       "      <th>1</th>\n",
       "      <td>2</td>\n",
       "      <td>Marketing</td>\n",
       "      <td>1800</td>\n",
       "    </tr>\n",
       "  </tbody>\n",
       "</table>\n",
       "</div>"
      ],
      "text/plain": [
       "   department_id department_name  location_id\n",
       "0              1  Administration         1700\n",
       "1              2       Marketing         1800"
      ]
     },
     "execution_count": 15,
     "metadata": {},
     "output_type": "execute_result"
    }
   ],
   "source": [
    "sql_departments = \"SELECT * FROM Human_resources.departments;\"\n",
    "df_departments = get_dataframe(user_id, pwd, host_name, src_dbname, sql_departments)\n",
    "df_departments.head(2)"
   ]
  },
  {
   "cell_type": "code",
   "execution_count": 16,
   "id": "7a1866dd",
   "metadata": {},
   "outputs": [
    {
     "data": {
      "text/html": [
       "<div>\n",
       "<style scoped>\n",
       "    .dataframe tbody tr th:only-of-type {\n",
       "        vertical-align: middle;\n",
       "    }\n",
       "\n",
       "    .dataframe tbody tr th {\n",
       "        vertical-align: top;\n",
       "    }\n",
       "\n",
       "    .dataframe thead th {\n",
       "        text-align: right;\n",
       "    }\n",
       "</style>\n",
       "<table border=\"1\" class=\"dataframe\">\n",
       "  <thead>\n",
       "    <tr style=\"text-align: right;\">\n",
       "      <th></th>\n",
       "      <th>employee_id</th>\n",
       "      <th>first_name</th>\n",
       "      <th>last_name</th>\n",
       "      <th>email</th>\n",
       "      <th>phone_number</th>\n",
       "      <th>hire_date</th>\n",
       "      <th>job_id</th>\n",
       "      <th>salary</th>\n",
       "      <th>manager_id</th>\n",
       "      <th>department_id</th>\n",
       "    </tr>\n",
       "  </thead>\n",
       "  <tbody>\n",
       "    <tr>\n",
       "      <th>0</th>\n",
       "      <td>100</td>\n",
       "      <td>Steven</td>\n",
       "      <td>King</td>\n",
       "      <td>steven.king@sqltutorial.org</td>\n",
       "      <td>515.123.4567</td>\n",
       "      <td>1987-06-17</td>\n",
       "      <td>4</td>\n",
       "      <td>24000.0</td>\n",
       "      <td>NaN</td>\n",
       "      <td>9</td>\n",
       "    </tr>\n",
       "    <tr>\n",
       "      <th>1</th>\n",
       "      <td>101</td>\n",
       "      <td>Neena</td>\n",
       "      <td>Kochhar</td>\n",
       "      <td>neena.kochhar@sqltutorial.org</td>\n",
       "      <td>515.123.4568</td>\n",
       "      <td>1989-09-21</td>\n",
       "      <td>5</td>\n",
       "      <td>17000.0</td>\n",
       "      <td>100.0</td>\n",
       "      <td>9</td>\n",
       "    </tr>\n",
       "  </tbody>\n",
       "</table>\n",
       "</div>"
      ],
      "text/plain": [
       "   employee_id first_name last_name                          email  \\\n",
       "0          100     Steven      King    steven.king@sqltutorial.org   \n",
       "1          101      Neena   Kochhar  neena.kochhar@sqltutorial.org   \n",
       "\n",
       "   phone_number   hire_date  job_id   salary  manager_id  department_id  \n",
       "0  515.123.4567  1987-06-17       4  24000.0         NaN              9  \n",
       "1  515.123.4568  1989-09-21       5  17000.0       100.0              9  "
      ]
     },
     "execution_count": 16,
     "metadata": {},
     "output_type": "execute_result"
    }
   ],
   "source": [
    "sql_employees = \"SELECT * FROM Human_resources.employees;\"\n",
    "df_employees = get_dataframe(user_id, pwd, host_name, src_dbname, sql_employees)\n",
    "df_employees.head(2)"
   ]
  },
  {
   "cell_type": "markdown",
   "id": "fc143d58",
   "metadata": {},
   "source": [
    "#### Transformations"
   ]
  },
  {
   "cell_type": "code",
   "execution_count": 24,
   "id": "ab7ab3fa",
   "metadata": {},
   "outputs": [
    {
     "data": {
      "text/html": [
       "<div>\n",
       "<style scoped>\n",
       "    .dataframe tbody tr th:only-of-type {\n",
       "        vertical-align: middle;\n",
       "    }\n",
       "\n",
       "    .dataframe tbody tr th {\n",
       "        vertical-align: top;\n",
       "    }\n",
       "\n",
       "    .dataframe thead th {\n",
       "        text-align: right;\n",
       "    }\n",
       "</style>\n",
       "<table border=\"1\" class=\"dataframe\">\n",
       "  <thead>\n",
       "    <tr style=\"text-align: right;\">\n",
       "      <th></th>\n",
       "      <th>location_key</th>\n",
       "      <th>city</th>\n",
       "      <th>state_province</th>\n",
       "      <th>country_id</th>\n",
       "    </tr>\n",
       "  </thead>\n",
       "  <tbody>\n",
       "    <tr>\n",
       "      <th>0</th>\n",
       "      <td>1400</td>\n",
       "      <td>Southlake</td>\n",
       "      <td>Texas</td>\n",
       "      <td>US</td>\n",
       "    </tr>\n",
       "    <tr>\n",
       "      <th>1</th>\n",
       "      <td>1500</td>\n",
       "      <td>South San Francisco</td>\n",
       "      <td>California</td>\n",
       "      <td>US</td>\n",
       "    </tr>\n",
       "  </tbody>\n",
       "</table>\n",
       "</div>"
      ],
      "text/plain": [
       "   location_key                 city state_province country_id\n",
       "0          1400            Southlake          Texas         US\n",
       "1          1500  South San Francisco     California         US"
      ]
     },
     "execution_count": 24,
     "metadata": {},
     "output_type": "execute_result"
    }
   ],
   "source": [
    "drop_cols = ['street_address','postcal_code']\n",
    "df_locations.drop(drop_cols, axis=1, inplace=True)\n",
    "df_locations.rename(columns={\"location_id\":\"location_key\"}, inplace=True)\n",
    "\n",
    "df_locations.head(2)"
   ]
  },
  {
   "cell_type": "code",
   "execution_count": 25,
   "id": "704f2e34",
   "metadata": {},
   "outputs": [
    {
     "data": {
      "text/html": [
       "<div>\n",
       "<style scoped>\n",
       "    .dataframe tbody tr th:only-of-type {\n",
       "        vertical-align: middle;\n",
       "    }\n",
       "\n",
       "    .dataframe tbody tr th {\n",
       "        vertical-align: top;\n",
       "    }\n",
       "\n",
       "    .dataframe thead th {\n",
       "        text-align: right;\n",
       "    }\n",
       "</style>\n",
       "<table border=\"1\" class=\"dataframe\">\n",
       "  <thead>\n",
       "    <tr style=\"text-align: right;\">\n",
       "      <th></th>\n",
       "      <th>department_key</th>\n",
       "      <th>department_name</th>\n",
       "      <th>location_id</th>\n",
       "    </tr>\n",
       "  </thead>\n",
       "  <tbody>\n",
       "    <tr>\n",
       "      <th>0</th>\n",
       "      <td>1</td>\n",
       "      <td>Administration</td>\n",
       "      <td>1700</td>\n",
       "    </tr>\n",
       "    <tr>\n",
       "      <th>1</th>\n",
       "      <td>2</td>\n",
       "      <td>Marketing</td>\n",
       "      <td>1800</td>\n",
       "    </tr>\n",
       "  </tbody>\n",
       "</table>\n",
       "</div>"
      ],
      "text/plain": [
       "   department_key department_name  location_id\n",
       "0               1  Administration         1700\n",
       "1               2       Marketing         1800"
      ]
     },
     "execution_count": 25,
     "metadata": {},
     "output_type": "execute_result"
    }
   ],
   "source": [
    "df_departments.rename(columns={\"department_id\":\"department_key\"}, inplace=True)\n",
    "\n",
    "df_departments.head(2)"
   ]
  },
  {
   "cell_type": "code",
   "execution_count": 26,
   "id": "6b92b3fd",
   "metadata": {},
   "outputs": [
    {
     "data": {
      "text/html": [
       "<div>\n",
       "<style scoped>\n",
       "    .dataframe tbody tr th:only-of-type {\n",
       "        vertical-align: middle;\n",
       "    }\n",
       "\n",
       "    .dataframe tbody tr th {\n",
       "        vertical-align: top;\n",
       "    }\n",
       "\n",
       "    .dataframe thead th {\n",
       "        text-align: right;\n",
       "    }\n",
       "</style>\n",
       "<table border=\"1\" class=\"dataframe\">\n",
       "  <thead>\n",
       "    <tr style=\"text-align: right;\">\n",
       "      <th></th>\n",
       "      <th>employee_key</th>\n",
       "      <th>first_name</th>\n",
       "      <th>last_name</th>\n",
       "      <th>email</th>\n",
       "      <th>phone_number</th>\n",
       "      <th>job_id</th>\n",
       "      <th>manager_id</th>\n",
       "      <th>department_id</th>\n",
       "    </tr>\n",
       "  </thead>\n",
       "  <tbody>\n",
       "    <tr>\n",
       "      <th>0</th>\n",
       "      <td>100</td>\n",
       "      <td>Steven</td>\n",
       "      <td>King</td>\n",
       "      <td>steven.king@sqltutorial.org</td>\n",
       "      <td>515.123.4567</td>\n",
       "      <td>4</td>\n",
       "      <td>NaN</td>\n",
       "      <td>9</td>\n",
       "    </tr>\n",
       "    <tr>\n",
       "      <th>1</th>\n",
       "      <td>101</td>\n",
       "      <td>Neena</td>\n",
       "      <td>Kochhar</td>\n",
       "      <td>neena.kochhar@sqltutorial.org</td>\n",
       "      <td>515.123.4568</td>\n",
       "      <td>5</td>\n",
       "      <td>100.0</td>\n",
       "      <td>9</td>\n",
       "    </tr>\n",
       "  </tbody>\n",
       "</table>\n",
       "</div>"
      ],
      "text/plain": [
       "   employee_key first_name last_name                          email  \\\n",
       "0           100     Steven      King    steven.king@sqltutorial.org   \n",
       "1           101      Neena   Kochhar  neena.kochhar@sqltutorial.org   \n",
       "\n",
       "   phone_number  job_id  manager_id  department_id  \n",
       "0  515.123.4567       4         NaN              9  \n",
       "1  515.123.4568       5       100.0              9  "
      ]
     },
     "execution_count": 26,
     "metadata": {},
     "output_type": "execute_result"
    }
   ],
   "source": [
    "drop_cols = ['hire_date','salary']\n",
    "df_employees.drop(drop_cols, axis=1, inplace=True)\n",
    "df_employees.rename(columns={\"employee_id\":\"employee_key\"}, inplace=True)\n",
    "\n",
    "df_employees.head(2)"
   ]
  },
  {
   "cell_type": "markdown",
   "id": "3365374c",
   "metadata": {},
   "source": [
    "#### Loading the Transformed DataFrames into the New Data Warehouse by Creating New Tables"
   ]
  },
  {
   "cell_type": "code",
   "execution_count": 27,
   "id": "85de47b3",
   "metadata": {},
   "outputs": [
    {
     "data": {
      "text/plain": [
       "<sqlalchemy.engine.cursor.LegacyCursorResult at 0x7f9095cd2f40>"
      ]
     },
     "execution_count": 27,
     "metadata": {},
     "output_type": "execute_result"
    }
   ],
   "source": [
    "exec_sql = f\"CREATE DATABASE `{dst_dbname}`;\"\n",
    "\n",
    "conn_str = f\"mysql+pymysql://{user_id}:{pwd}@{host_name}\"\n",
    "sqlEngine = create_engine(conn_str, pool_recycle=3600)\n",
    "sqlEngine.execute(exec_sql) #create db\n",
    "sqlEngine.execute(\"USE Eligible_forConference;\") # select new db"
   ]
  },
  {
   "cell_type": "code",
   "execution_count": 28,
   "id": "bb5c0c77",
   "metadata": {},
   "outputs": [],
   "source": [
    "db_operation = \"insert\"\n",
    "\n",
    "tables = [('dim_locations', df_locations, 'location_key'),\n",
    "          ('dim_departments', df_departments, 'department_key'),\n",
    "          ('dim_employees', df_employees, 'employee_key')]"
   ]
  },
  {
   "cell_type": "code",
   "execution_count": 29,
   "id": "2dc87b7f",
   "metadata": {},
   "outputs": [],
   "source": [
    "for table_name, dataframe, primary_key in tables:\n",
    "    set_dataframe(user_id, pwd, host_name, dst_dbname, dataframe, table_name, primary_key, db_operation)"
   ]
  },
  {
   "cell_type": "markdown",
   "id": "bf42917b",
   "metadata": {},
   "source": [
    "### Populating the Fact Table"
   ]
  },
  {
   "cell_type": "code",
   "execution_count": 58,
   "id": "4b1690b7",
   "metadata": {},
   "outputs": [],
   "source": [
    "sql_fact_table = \"\"\"\n",
    "SELECT `locations`.`location_id`,\n",
    "    `employees`.`employee_id`,\n",
    "    `employees`.`first_name`,\n",
    "    `employees`.`last_name`,\n",
    "    `employees`.`email`,\n",
    "    `employees`.`phone_number`,\n",
    "    `employees`.`job_id`,\n",
    "    `employees`.`manager_id`,\n",
    "    `employees`.`department_id` AS `employee_department_id`,\n",
    "     `locations`.`city`,\n",
    "    `locations`.`state_province`,\n",
    "    `locations`.`country_id`,\n",
    "    `departments`.`department_id`,\n",
    "    `departments`.`department_name`,\n",
    "    `departments`.`location_id` AS `department_location_id`\n",
    "     FROM Human_resources.locations\n",
    " INNER JOIN Human_resources.departments\n",
    "    ON departments.location_id = locations.location_id\n",
    " RIGHT OUTER JOIN Human_resources.employees\n",
    "     ON departments.department_id = employees.department_id;\n",
    "\"\"\""
   ]
  },
  {
   "cell_type": "code",
   "execution_count": 59,
   "id": "946983e8",
   "metadata": {},
   "outputs": [
    {
     "data": {
      "text/html": [
       "<div>\n",
       "<style scoped>\n",
       "    .dataframe tbody tr th:only-of-type {\n",
       "        vertical-align: middle;\n",
       "    }\n",
       "\n",
       "    .dataframe tbody tr th {\n",
       "        vertical-align: top;\n",
       "    }\n",
       "\n",
       "    .dataframe thead th {\n",
       "        text-align: right;\n",
       "    }\n",
       "</style>\n",
       "<table border=\"1\" class=\"dataframe\">\n",
       "  <thead>\n",
       "    <tr style=\"text-align: right;\">\n",
       "      <th></th>\n",
       "      <th>location_id</th>\n",
       "      <th>employee_id</th>\n",
       "      <th>first_name</th>\n",
       "      <th>last_name</th>\n",
       "      <th>email</th>\n",
       "      <th>phone_number</th>\n",
       "      <th>job_id</th>\n",
       "      <th>manager_id</th>\n",
       "      <th>employee_department_id</th>\n",
       "      <th>city</th>\n",
       "      <th>state_province</th>\n",
       "      <th>country_id</th>\n",
       "      <th>department_id</th>\n",
       "      <th>department_name</th>\n",
       "      <th>department_location_id</th>\n",
       "    </tr>\n",
       "  </thead>\n",
       "  <tbody>\n",
       "    <tr>\n",
       "      <th>0</th>\n",
       "      <td>1700</td>\n",
       "      <td>100</td>\n",
       "      <td>Steven</td>\n",
       "      <td>King</td>\n",
       "      <td>steven.king@sqltutorial.org</td>\n",
       "      <td>515.123.4567</td>\n",
       "      <td>4</td>\n",
       "      <td>NaN</td>\n",
       "      <td>9</td>\n",
       "      <td>Seattle</td>\n",
       "      <td>Washington</td>\n",
       "      <td>US</td>\n",
       "      <td>9</td>\n",
       "      <td>Executive</td>\n",
       "      <td>1700</td>\n",
       "    </tr>\n",
       "    <tr>\n",
       "      <th>1</th>\n",
       "      <td>1700</td>\n",
       "      <td>101</td>\n",
       "      <td>Neena</td>\n",
       "      <td>Kochhar</td>\n",
       "      <td>neena.kochhar@sqltutorial.org</td>\n",
       "      <td>515.123.4568</td>\n",
       "      <td>5</td>\n",
       "      <td>100.0</td>\n",
       "      <td>9</td>\n",
       "      <td>Seattle</td>\n",
       "      <td>Washington</td>\n",
       "      <td>US</td>\n",
       "      <td>9</td>\n",
       "      <td>Executive</td>\n",
       "      <td>1700</td>\n",
       "    </tr>\n",
       "  </tbody>\n",
       "</table>\n",
       "</div>"
      ],
      "text/plain": [
       "   location_id  employee_id first_name last_name  \\\n",
       "0         1700          100     Steven      King   \n",
       "1         1700          101      Neena   Kochhar   \n",
       "\n",
       "                           email  phone_number  job_id  manager_id  \\\n",
       "0    steven.king@sqltutorial.org  515.123.4567       4         NaN   \n",
       "1  neena.kochhar@sqltutorial.org  515.123.4568       5       100.0   \n",
       "\n",
       "   employee_department_id     city state_province country_id  department_id  \\\n",
       "0                       9  Seattle     Washington         US              9   \n",
       "1                       9  Seattle     Washington         US              9   \n",
       "\n",
       "  department_name  department_location_id  \n",
       "0       Executive                    1700  \n",
       "1       Executive                    1700  "
      ]
     },
     "execution_count": 59,
     "metadata": {},
     "output_type": "execute_result"
    }
   ],
   "source": [
    "df_fact_table = get_dataframe(user_id, pwd, host_name, src_dbname, sql_fact_table)\n",
    "df_fact_table.head(2)"
   ]
  },
  {
   "cell_type": "code",
   "execution_count": 65,
   "id": "8fbeb9d0",
   "metadata": {},
   "outputs": [
    {
     "data": {
      "text/html": [
       "<div>\n",
       "<style scoped>\n",
       "    .dataframe tbody tr th:only-of-type {\n",
       "        vertical-align: middle;\n",
       "    }\n",
       "\n",
       "    .dataframe tbody tr th {\n",
       "        vertical-align: top;\n",
       "    }\n",
       "\n",
       "    .dataframe thead th {\n",
       "        text-align: right;\n",
       "    }\n",
       "</style>\n",
       "<table border=\"1\" class=\"dataframe\">\n",
       "  <thead>\n",
       "    <tr style=\"text-align: right;\">\n",
       "      <th></th>\n",
       "      <th>EligibleEmployee_key</th>\n",
       "      <th>employee_id</th>\n",
       "      <th>first_name</th>\n",
       "      <th>last_name</th>\n",
       "      <th>email</th>\n",
       "      <th>phone_number</th>\n",
       "      <th>job_id</th>\n",
       "      <th>manager_id</th>\n",
       "      <th>employee_department_id</th>\n",
       "      <th>city</th>\n",
       "      <th>state_province</th>\n",
       "      <th>country_id</th>\n",
       "      <th>department_name</th>\n",
       "      <th>department_location_id</th>\n",
       "    </tr>\n",
       "  </thead>\n",
       "  <tbody>\n",
       "    <tr>\n",
       "      <th>0</th>\n",
       "      <td>0</td>\n",
       "      <td>100</td>\n",
       "      <td>Steven</td>\n",
       "      <td>King</td>\n",
       "      <td>steven.king@sqltutorial.org</td>\n",
       "      <td>515.123.4567</td>\n",
       "      <td>4</td>\n",
       "      <td>NaN</td>\n",
       "      <td>9</td>\n",
       "      <td>Seattle</td>\n",
       "      <td>Washington</td>\n",
       "      <td>US</td>\n",
       "      <td>Executive</td>\n",
       "      <td>1700</td>\n",
       "    </tr>\n",
       "    <tr>\n",
       "      <th>1</th>\n",
       "      <td>1</td>\n",
       "      <td>101</td>\n",
       "      <td>Neena</td>\n",
       "      <td>Kochhar</td>\n",
       "      <td>neena.kochhar@sqltutorial.org</td>\n",
       "      <td>515.123.4568</td>\n",
       "      <td>5</td>\n",
       "      <td>100.0</td>\n",
       "      <td>9</td>\n",
       "      <td>Seattle</td>\n",
       "      <td>Washington</td>\n",
       "      <td>US</td>\n",
       "      <td>Executive</td>\n",
       "      <td>1700</td>\n",
       "    </tr>\n",
       "  </tbody>\n",
       "</table>\n",
       "</div>"
      ],
      "text/plain": [
       "   EligibleEmployee_key  employee_id first_name last_name  \\\n",
       "0                     0          100     Steven      King   \n",
       "1                     1          101      Neena   Kochhar   \n",
       "\n",
       "                           email  phone_number  job_id  manager_id  \\\n",
       "0    steven.king@sqltutorial.org  515.123.4567       4         NaN   \n",
       "1  neena.kochhar@sqltutorial.org  515.123.4568       5       100.0   \n",
       "\n",
       "   employee_department_id     city state_province country_id department_name  \\\n",
       "0                       9  Seattle     Washington         US       Executive   \n",
       "1                       9  Seattle     Washington         US       Executive   \n",
       "\n",
       "   department_location_id  \n",
       "0                    1700  \n",
       "1                    1700  "
      ]
     },
     "execution_count": 65,
     "metadata": {},
     "output_type": "execute_result"
    }
   ],
   "source": [
    "drop_columns = [\"location_id\", \"department_id\"]\n",
    "df_fact_table.drop(drop_columns, axis=1, inplace=True)\n",
    "df_fact_table.insert(0, \"EligibleEmployee_key\", range(0, df_fact_table.shape[0]))\n",
    "df_fact_table.head(2)"
   ]
  },
  {
   "cell_type": "code",
   "execution_count": 75,
   "id": "77a403f4",
   "metadata": {},
   "outputs": [],
   "source": [
    "table_name = \"Eligible_employees\"\n",
    "primary_key = \"EligibleEmployee_key\"\n",
    "db_operatioin = \"insert\"\n",
    "\n",
    "set_dataframe(user_id, pwd, host_name, dst_dbname, df_fact_table, table_name, primary_key, db_operation)"
   ]
  },
  {
   "cell_type": "markdown",
   "id": "55ffd9e2",
   "metadata": {},
   "source": [
    "### Load Into CSV File Format"
   ]
  },
  {
   "cell_type": "code",
   "execution_count": 79,
   "id": "bb91343b",
   "metadata": {},
   "outputs": [],
   "source": [
    "folder_path = '/Users/annsofo/Documents/UVA/Spring 2022/DS 3002/Project 1'\n",
    "file_path = '/Users/annsofo/Documents/UVA/Spring 2022/DS 3002/Project 1/Eligible_employees.csv'\n",
    "os.makedirs(folder_path, exist_ok=True)  \n",
    "try:\n",
    "    df_fact_table.to_csv(file_path)\n",
    "except:\n",
    "    print(\"An exception occured.\")"
   ]
  },
  {
   "cell_type": "code",
   "execution_count": null,
   "id": "bf053e68",
   "metadata": {},
   "outputs": [],
   "source": []
  }
 ],
 "metadata": {
  "kernelspec": {
   "display_name": "Python 3 (ipykernel)",
   "language": "python",
   "name": "python3"
  },
  "language_info": {
   "codemirror_mode": {
    "name": "ipython",
    "version": 3
   },
   "file_extension": ".py",
   "mimetype": "text/x-python",
   "name": "python",
   "nbconvert_exporter": "python",
   "pygments_lexer": "ipython3",
   "version": "3.9.7"
  }
 },
 "nbformat": 4,
 "nbformat_minor": 5
}
